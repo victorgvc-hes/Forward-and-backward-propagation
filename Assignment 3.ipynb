{
 "cells": [
  {
   "attachments": {
    "exp.png": {
     "image/png": "[encoded data removed]"
    }
   },
   "cell_type": "markdown",
   "metadata": {},
   "source": [
    "## Victor Vergara\n",
    "\n",
    "## Creating a forward and backward propagation for the following expression\n",
    "\n",
    "## ![exp.png](attachment:exp.png)\n",
    "\n",
    "## With values 𝑥,𝑦,𝑧 (2, -4, 3)"
   ]
  },
  {
   "cell_type": "markdown",
   "metadata": {},
   "source": [
    "# Forward propagation"
   ]
  },
  {
   "cell_type": "code",
   "execution_count": 153,
   "metadata": {},
   "outputs": [],
   "source": [
    "import tensorflow as tf"
   ]
  },
  {
   "cell_type": "code",
   "execution_count": 164,
   "metadata": {},
   "outputs": [],
   "source": [
    "# Definition of values:\n",
    "x=2.0; y=-4.0; z=3.0"
   ]
  },
  {
   "cell_type": "code",
   "execution_count": 218,
   "metadata": {},
   "outputs": [
    {
     "name": "stdout",
     "output_type": "stream",
     "text": [
      "The sigmoid function for y is: 0.01798621\n"
     ]
    }
   ],
   "source": [
    "# Calculation of the sigmoid function for y: \n",
    "#  σ(y)= 1/(1 + e^-y)\n",
    "sess = tf.Session()\n",
    "l1y=(sess.run(tf.negative(y)))\n",
    "l2y=(sess.run(tf.exp(l1y)))\n",
    "l3y=(sess.run(tf.add(1.00,l2y)))\n",
    "l4y=(sess.run(tf.div(1.00,l3y)))\n",
    "sess.close()\n",
    "print(\"The sigmoid function for y is:\",l4y)"
   ]
  },
  {
   "cell_type": "code",
   "execution_count": 220,
   "metadata": {},
   "outputs": [
    {
     "name": "stdout",
     "output_type": "stream",
     "text": [
      "The sigmoid function for z is: 0.95257413\n"
     ]
    }
   ],
   "source": [
    "# Calculation of the sigmoid function for z: \n",
    "#  σ(z)= 1/(1 + e^-z)\n",
    "sess = tf.Session()\n",
    "l1z=(sess.run(tf.negative(z)))\n",
    "l2z=(sess.run(tf.exp(l1z)))\n",
    "l3z=(sess.run(tf.add(1.00,l2z)))\n",
    "l4z=(sess.run(tf.div(1.00,l3z)))\n",
    "sess.close()\n",
    "print(\"The sigmoid function for z is:\",l4z)"
   ]
  },
  {
   "cell_type": "code",
   "execution_count": 225,
   "metadata": {},
   "outputs": [
    {
     "name": "stdout",
     "output_type": "stream",
     "text": [
      "The forward value for the function is: 0.4074621\n"
     ]
    }
   ],
   "source": [
    "#Calculation the entire formula: f =(x+σ(y))/((σ(z)+(x+y)^2))\n",
    "sess = tf.Session()\n",
    "l1=(sess.run(tf.add(x,l4y)))\n",
    "l2=(sess.run(tf.add(x,y)))\n",
    "l3=(sess.run(tf.square(l2)))\n",
    "l4=(sess.run(tf.add(l4z,l3)))\n",
    "l5=(sess.run(tf.div(l1,l4)))\n",
    "sess.close()\n",
    "print(\"The forward value for the function is:\",l5)"
   ]
  },
  {
   "cell_type": "markdown",
   "metadata": {},
   "source": [
    "# Backward propagation"
   ]
  },
  {
   "cell_type": "code",
   "execution_count": 226,
   "metadata": {},
   "outputs": [
    {
     "name": "stdout",
     "output_type": "stream",
     "text": [
      "The sigmoid function for the derivative of y is: 0.5025\n"
     ]
    }
   ],
   "source": [
    "# Calculation of partial derivative for the sigmoid function for y: \n",
    "# where σ(y)=e^y/(e^y+1)^2 = 0.01\n",
    "der_y= 0.01\n",
    "sess = tf.Session()\n",
    "l1_der_y=(sess.run(tf.negative(der_y)))\n",
    "l2_der_y=(sess.run(tf.exp(l1_der_y)))\n",
    "l3_der_y=(sess.run(tf.add(1.00,l2_der_y)))\n",
    "l4_der_y=(sess.run(tf.div(1.00,l3_der_y)))\n",
    "sess.close()\n",
    "print(\"The sigmoid function for the derivative of y is:\",l4_der_y)"
   ]
  },
  {
   "cell_type": "code",
   "execution_count": 227,
   "metadata": {},
   "outputs": [
    {
     "name": "stdout",
     "output_type": "stream",
     "text": [
      "The sigmoid function for the derivative of z is: 0.5099987\n"
     ]
    }
   ],
   "source": [
    "# Calculation of partial derivative for the sigmoid function for z: \n",
    "# where σ(z)=e^z/(e^z+1)^2 = 0.04\n",
    "der_z= 0.04\n",
    "sess = tf.Session()\n",
    "l1_der_z=(sess.run(tf.negative(der_z)))\n",
    "l2_der_z=(sess.run(tf.exp(l1_der_z)))\n",
    "l3_der_z=(sess.run(tf.add(1.00,l2_der_z)))\n",
    "l4_der_z=(sess.run(tf.div(1.00,l3_der_z)))\n",
    "sess.close()\n",
    "print(\"The sigmoid function for the derivative of z is:\",l4_der_z)"
   ]
  },
  {
   "cell_type": "code",
   "execution_count": 228,
   "metadata": {},
   "outputs": [
    {
     "name": "stdout",
     "output_type": "stream",
     "text": [
      "The backward value for the derivative values of the function is: 0.8411494\n"
     ]
    }
   ],
   "source": [
    "# Calculation the derivative values of the formula\n",
    "# with derivative values for x=0.52, y=0.32 and z=3\n",
    "der_x=0.52; der_y=0.32\n",
    "sess = tf.Session()\n",
    "l1_der=(sess.run(tf.add(der_x,l4_der_y)))\n",
    "l2_der=(sess.run(tf.add(der_x,der_y)))\n",
    "l3_der=(sess.run(tf.square(l2_der)))\n",
    "l4_der=(sess.run(tf.add(l4_der_z,l3_der)))\n",
    "l5_der=(sess.run(tf.div(l1_der,l4_der)))\n",
    "sess.close()\n",
    "print(\"The backward value for the derivative values of the function is:\",l5_der)"
   ]
  }
 ],
 "metadata": {
  "kernelspec": {
   "display_name": "Python 3",
   "language": "python",
   "name": "python3"
  },
  "language_info": {
   "codemirror_mode": {
    "name": "ipython",
    "version": 3
   },
   "file_extension": ".py",
   "mimetype": "text/x-python",
   "name": "python",
   "nbconvert_exporter": "python",
   "pygments_lexer": "ipython3",
   "version": "3.7.2"
  }
 },
 "nbformat": 4,
 "nbformat_minor": 2
}
